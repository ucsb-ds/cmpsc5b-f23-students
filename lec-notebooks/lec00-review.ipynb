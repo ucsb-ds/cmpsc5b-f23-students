{
 "cells": [
  {
   "cell_type": "code",
   "execution_count": 1,
   "metadata": {
    "tags": []
   },
   "outputs": [],
   "source": [
    "from datascience import *\n",
    "import numpy as np\n",
    "\n",
    "%matplotlib inline\n",
    "import matplotlib.pyplot as plots\n",
    "plots.style.use('fivethirtyeight')\n",
    "from scipy import stats"
   ]
  },
  {
   "cell_type": "markdown",
   "metadata": {},
   "source": [
    "# Pivot #"
   ]
  },
  {
   "cell_type": "code",
   "execution_count": 3,
   "metadata": {
    "tags": []
   },
   "outputs": [],
   "source": [
    "nba = Table.read_table('data/nba_salaries.csv')"
   ]
  },
  {
   "cell_type": "code",
   "execution_count": 4,
   "metadata": {
    "tags": []
   },
   "outputs": [
    {
     "data": {
      "text/html": [
       "<table border=\"1\" class=\"dataframe\">\n",
       "    <thead>\n",
       "        <tr>\n",
       "            <th>rank</th> <th>name</th> <th>position</th> <th>team</th> <th>salary</th> <th>season</th>\n",
       "        </tr>\n",
       "    </thead>\n",
       "    <tbody>\n",
       "        <tr>\n",
       "            <td>1   </td> <td>Shaquille O'Neal   </td> <td>C       </td> <td>Los Angeles Lakers    </td> <td>17142000</td> <td>2000  </td>\n",
       "        </tr>\n",
       "        <tr>\n",
       "            <td>2   </td> <td>Kevin Garnett      </td> <td>PF      </td> <td>Minnesota Timberwolves</td> <td>16806000</td> <td>2000  </td>\n",
       "        </tr>\n",
       "        <tr>\n",
       "            <td>3   </td> <td>Alonzo Mourning    </td> <td>C       </td> <td>Miami Heat            </td> <td>15004000</td> <td>2000  </td>\n",
       "        </tr>\n",
       "        <tr>\n",
       "            <td>4   </td> <td>Juwan Howard       </td> <td>PF      </td> <td>Washington Wizards    </td> <td>15000000</td> <td>2000  </td>\n",
       "        </tr>\n",
       "        <tr>\n",
       "            <td>5   </td> <td>Scottie Pippen     </td> <td>SF      </td> <td>Portland Trail Blazers</td> <td>14795000</td> <td>2000  </td>\n",
       "        </tr>\n",
       "        <tr>\n",
       "            <td>6   </td> <td>Karl Malone        </td> <td>PF      </td> <td>Utah Jazz             </td> <td>14000000</td> <td>2000  </td>\n",
       "        </tr>\n",
       "        <tr>\n",
       "            <td>7   </td> <td>Larry Johnson      </td> <td>F       </td> <td>New York Knicks       </td> <td>11910000</td> <td>2000  </td>\n",
       "        </tr>\n",
       "        <tr>\n",
       "            <td>8   </td> <td>Gary Payton        </td> <td>PG      </td> <td>Seattle SuperSonics   </td> <td>11020000</td> <td>2000  </td>\n",
       "        </tr>\n",
       "        <tr>\n",
       "            <td>9   </td> <td>Rasheed Wallace    </td> <td>PF      </td> <td>Portland Trail Blazers</td> <td>10800000</td> <td>2000  </td>\n",
       "        </tr>\n",
       "        <tr>\n",
       "            <td>10  </td> <td>Shawn Kemp         </td> <td>C       </td> <td>Cleveland Cavaliers   </td> <td>10780000</td> <td>2000  </td>\n",
       "        </tr>\n",
       "        <tr>\n",
       "            <td>11  </td> <td>Damon Stoudamire   </td> <td>PG      </td> <td>Portland Trail Blazers</td> <td>10125000</td> <td>2000  </td>\n",
       "        </tr>\n",
       "        <tr>\n",
       "            <td>12  </td> <td>Antonio McDyess    </td> <td>PF      </td> <td>Denver Nuggets        </td> <td>9900000 </td> <td>2000  </td>\n",
       "        </tr>\n",
       "        <tr>\n",
       "            <td>13  </td> <td>Antoine Walker     </td> <td>PF      </td> <td>Boston Celtics        </td> <td>9000000 </td> <td>2000  </td>\n",
       "        </tr>\n",
       "        <tr>\n",
       "            <td>14  </td> <td>Shareef Abdur-Rahim</td> <td>PF      </td> <td>Vancouver Grizzlies   </td> <td>9000000 </td> <td>2000  </td>\n",
       "        </tr>\n",
       "        <tr>\n",
       "            <td>15  </td> <td>Allen Iverson      </td> <td>SG      </td> <td>Philadelphia 76ers    </td> <td>9000000 </td> <td>2000  </td>\n",
       "        </tr>\n",
       "        <tr>\n",
       "            <td>16  </td> <td>Vin Baker          </td> <td>PF      </td> <td>Seattle SuperSonics   </td> <td>9000000 </td> <td>2000  </td>\n",
       "        </tr>\n",
       "        <tr>\n",
       "            <td>17  </td> <td>Anfernee Hardaway  </td> <td>SF      </td> <td>Phoenix Suns          </td> <td>9000000 </td> <td>2000  </td>\n",
       "        </tr>\n",
       "        <tr>\n",
       "            <td>18  </td> <td>Ray Allen          </td> <td>SG      </td> <td>Milwaukee Bucks       </td> <td>9000000 </td> <td>2000  </td>\n",
       "        </tr>\n",
       "        <tr>\n",
       "            <td>19  </td> <td>Kobe Bryant        </td> <td>SF      </td> <td>Los Angeles Lakers    </td> <td>9000000 </td> <td>2000  </td>\n",
       "        </tr>\n",
       "        <tr>\n",
       "            <td>20  </td> <td>Stephon Marbury    </td> <td>PG      </td> <td>New Jersey Nets       </td> <td>9000000 </td> <td>2000  </td>\n",
       "        </tr>\n",
       "    </tbody>\n",
       "</table>\n",
       "<p>... (9436 rows omitted)</p>"
      ],
      "text/plain": [
       "<IPython.core.display.HTML object>"
      ]
     },
     "metadata": {},
     "output_type": "display_data"
    }
   ],
   "source": [
    "nba.show(20)"
   ]
  },
  {
   "cell_type": "markdown",
   "metadata": {},
   "source": [
    "Each player has two categorical attributes, Position and Team (actually three, because their name is also categorical). \n",
    "\n",
    "Let's\n",
    "- Count how many players are in each Position/Team pair\n",
    "- Two required arguments:\n",
    "    - First is the column label of the attribute  whose values are the column labels of the pivot table\n",
    "     - Second is the label for the rows\n",
    "     \n",
    "Each cell contains the number of players in that Position/Team category.\n",
    "\n",
    "Go back to nba and check that there are 3 Centers in the Atlanta Hawks."
   ]
  },
  {
   "cell_type": "code",
   "execution_count": 5,
   "metadata": {
    "tags": []
   },
   "outputs": [
    {
     "data": {
      "text/html": [
       "<table border=\"1\" class=\"dataframe\">\n",
       "    <thead>\n",
       "        <tr>\n",
       "            <th>team</th> <th>C</th> <th>F</th> <th>G</th> <th>GF</th> <th>PF</th> <th>PG</th> <th>SF</th> <th>SG</th> <th>nan</th>\n",
       "        </tr>\n",
       "    </thead>\n",
       "    <tbody>\n",
       "        <tr>\n",
       "            <td>Atlanta Hawks              </td> <td>41  </td> <td>14  </td> <td>30  </td> <td>0   </td> <td>76  </td> <td>37  </td> <td>24  </td> <td>59  </td> <td>0   </td>\n",
       "        </tr>\n",
       "        <tr>\n",
       "            <td>Bilbao Basket Bilbao Basket</td> <td>1   </td> <td>0   </td> <td>0   </td> <td>0   </td> <td>0   </td> <td>0   </td> <td>0   </td> <td>0   </td> <td>0   </td>\n",
       "        </tr>\n",
       "        <tr>\n",
       "            <td>Boston Celtics             </td> <td>46  </td> <td>10  </td> <td>17  </td> <td>0   </td> <td>65  </td> <td>52  </td> <td>30  </td> <td>46  </td> <td>1   </td>\n",
       "        </tr>\n",
       "        <tr>\n",
       "            <td>Brooklyn Nets              </td> <td>27  </td> <td>12  </td> <td>29  </td> <td>0   </td> <td>19  </td> <td>21  </td> <td>33  </td> <td>30  </td> <td>0   </td>\n",
       "        </tr>\n",
       "        <tr>\n",
       "            <td>Charlotte Bobcats          </td> <td>46  </td> <td>1   </td> <td>8   </td> <td>0   </td> <td>25  </td> <td>22  </td> <td>31  </td> <td>29  </td> <td>0   </td>\n",
       "        </tr>\n",
       "        <tr>\n",
       "            <td>Charlotte Hornets          </td> <td>31  </td> <td>3   </td> <td>19  </td> <td>0   </td> <td>23  </td> <td>24  </td> <td>20  </td> <td>30  </td> <td>0   </td>\n",
       "        </tr>\n",
       "        <tr>\n",
       "            <td>Chicago Bulls              </td> <td>48  </td> <td>22  </td> <td>17  </td> <td>0   </td> <td>62  </td> <td>42  </td> <td>35  </td> <td>58  </td> <td>1   </td>\n",
       "        </tr>\n",
       "        <tr>\n",
       "            <td>Cleveland Cavaliers        </td> <td>66  </td> <td>12  </td> <td>12  </td> <td>0   </td> <td>41  </td> <td>44  </td> <td>46  </td> <td>62  </td> <td>0   </td>\n",
       "        </tr>\n",
       "        <tr>\n",
       "            <td>Dallas Mavericks           </td> <td>54  </td> <td>32  </td> <td>28  </td> <td>0   </td> <td>43  </td> <td>52  </td> <td>36  </td> <td>50  </td> <td>2   </td>\n",
       "        </tr>\n",
       "        <tr>\n",
       "            <td>Denver Nuggets             </td> <td>49  </td> <td>21  </td> <td>24  </td> <td>0   </td> <td>57  </td> <td>40  </td> <td>45  </td> <td>49  </td> <td>0   </td>\n",
       "        </tr>\n",
       "    </tbody>\n",
       "</table>\n",
       "<p>... (33 rows omitted)</p>"
      ],
      "text/plain": [
       "team                        | C    | F    | G    | GF   | PF   | PG   | SF   | SG   | nan\n",
       "Atlanta Hawks               | 41   | 14   | 30   | 0    | 76   | 37   | 24   | 59   | 0\n",
       "Bilbao Basket Bilbao Basket | 1    | 0    | 0    | 0    | 0    | 0    | 0    | 0    | 0\n",
       "Boston Celtics              | 46   | 10   | 17   | 0    | 65   | 52   | 30   | 46   | 1\n",
       "Brooklyn Nets               | 27   | 12   | 29   | 0    | 19   | 21   | 33   | 30   | 0\n",
       "Charlotte Bobcats           | 46   | 1    | 8    | 0    | 25   | 22   | 31   | 29   | 0\n",
       "Charlotte Hornets           | 31   | 3    | 19   | 0    | 23   | 24   | 20   | 30   | 0\n",
       "Chicago Bulls               | 48   | 22   | 17   | 0    | 62   | 42   | 35   | 58   | 1\n",
       "Cleveland Cavaliers         | 66   | 12   | 12   | 0    | 41   | 44   | 46   | 62   | 0\n",
       "Dallas Mavericks            | 54   | 32   | 28   | 0    | 43   | 52   | 36   | 50   | 2\n",
       "Denver Nuggets              | 49   | 21   | 24   | 0    | 57   | 40   | 45   | 49   | 0\n",
       "... (33 rows omitted)"
      ]
     },
     "execution_count": 5,
     "metadata": {},
     "output_type": "execute_result"
    }
   ],
   "source": [
    "nba.pivot('position', 'team')"
   ]
  },
  {
   "cell_type": "code",
   "execution_count": 6,
   "metadata": {
    "tags": []
   },
   "outputs": [
    {
     "data": {
      "text/html": [
       "<table border=\"1\" class=\"dataframe\">\n",
       "    <thead>\n",
       "        <tr>\n",
       "            <th>position</th> <th>Atlanta Hawks</th> <th>Bilbao Basket Bilbao Basket</th> <th>Boston Celtics</th> <th>Brooklyn Nets</th> <th>Charlotte Bobcats</th> <th>Charlotte Hornets</th> <th>Chicago Bulls</th> <th>Cleveland Cavaliers</th> <th>Dallas Mavericks</th> <th>Denver Nuggets</th> <th>Detroit Pistons</th> <th>Fenerbahce Ulker Fenerbahce Ulker</th> <th>Golden State Warriors</th> <th>Houston Rockets</th> <th>Indiana Pacers</th> <th>LA Clippers</th> <th>Los Angeles Clippers</th> <th>Los Angeles Lakers</th> <th>Maccabi Haifa Maccabi Haifa</th> <th>Madrid Real Madrid</th> <th>Memphis Grizzlies</th> <th>Miami Heat</th> <th>Milwaukee Bucks</th> <th>Minnesota Timberwolves</th> <th>NO/Oklahoma City\r\n",
       " Hornets</th> <th>NO/Oklahoma City Hornets</th> <th>New Jersey Nets</th> <th>New Orleans Hornets</th> <th>New Orleans Pelicans</th> <th>New York Knicks</th> <th>Oklahoma City Thunder</th> <th>Orlando Magic</th> <th>Philadelphia 76ers</th> <th>Phoenix Suns</th> <th>Portland Trail Blazers</th> <th>Sacramento Kings</th> <th>San Antonio Spurs</th> <th>Seattle SuperSonics</th> <th>Toronto Raptors</th> <th>Utah Jazz</th> <th>Vancouver Grizzlies</th> <th>Washington Wizards</th> <th>null Unknown</th>\n",
       "        </tr>\n",
       "    </thead>\n",
       "    <tbody>\n",
       "        <tr>\n",
       "            <td>C       </td> <td>41           </td> <td>1                          </td> <td>46            </td> <td>27           </td> <td>46               </td> <td>31               </td> <td>48           </td> <td>66                 </td> <td>54              </td> <td>49            </td> <td>34             </td> <td>3                                </td> <td>61                   </td> <td>52             </td> <td>54            </td> <td>48         </td> <td>4                   </td> <td>60                </td> <td>0                          </td> <td>1                 </td> <td>47               </td> <td>50        </td> <td>45             </td> <td>59                    </td> <td>0                         </td> <td>1                       </td> <td>34             </td> <td>18                 </td> <td>25                  </td> <td>68             </td> <td>47                   </td> <td>54           </td> <td>70                </td> <td>58          </td> <td>73                    </td> <td>65              </td> <td>69               </td> <td>29                 </td> <td>70             </td> <td>69       </td> <td>3                  </td> <td>85                </td> <td>0           </td>\n",
       "        </tr>\n",
       "        <tr>\n",
       "            <td>F       </td> <td>14           </td> <td>0                          </td> <td>10            </td> <td>12           </td> <td>1                </td> <td>3                </td> <td>22           </td> <td>12                 </td> <td>32              </td> <td>21            </td> <td>18             </td> <td>0                                </td> <td>21                   </td> <td>22             </td> <td>16            </td> <td>11         </td> <td>2                   </td> <td>12                </td> <td>2                          </td> <td>0                 </td> <td>37               </td> <td>19        </td> <td>15             </td> <td>16                    </td> <td>1                         </td> <td>1                       </td> <td>14             </td> <td>11                 </td> <td>12                  </td> <td>16             </td> <td>26                   </td> <td>10           </td> <td>25                </td> <td>19          </td> <td>19                    </td> <td>13              </td> <td>27               </td> <td>6                  </td> <td>13             </td> <td>18       </td> <td>2                  </td> <td>27                </td> <td>0           </td>\n",
       "        </tr>\n",
       "        <tr>\n",
       "            <td>G       </td> <td>30           </td> <td>0                          </td> <td>17            </td> <td>29           </td> <td>8                </td> <td>19               </td> <td>17           </td> <td>12                 </td> <td>28              </td> <td>24            </td> <td>17             </td> <td>0                                </td> <td>21                   </td> <td>16             </td> <td>23            </td> <td>16         </td> <td>0                   </td> <td>25                </td> <td>0                          </td> <td>0                 </td> <td>26               </td> <td>28        </td> <td>24             </td> <td>11                    </td> <td>0                         </td> <td>0                       </td> <td>8              </td> <td>2                  </td> <td>11                  </td> <td>18             </td> <td>12                   </td> <td>29           </td> <td>15                </td> <td>25          </td> <td>20                    </td> <td>20              </td> <td>51               </td> <td>3                  </td> <td>34             </td> <td>21       </td> <td>6                  </td> <td>30                </td> <td>0           </td>\n",
       "        </tr>\n",
       "        <tr>\n",
       "            <td>GF      </td> <td>0            </td> <td>0                          </td> <td>0             </td> <td>0            </td> <td>0                </td> <td>0                </td> <td>0            </td> <td>0                  </td> <td>0               </td> <td>0             </td> <td>0              </td> <td>0                                </td> <td>0                    </td> <td>0              </td> <td>0             </td> <td>0          </td> <td>0                   </td> <td>0                 </td> <td>0                          </td> <td>0                 </td> <td>0                </td> <td>0         </td> <td>1              </td> <td>0                     </td> <td>0                         </td> <td>0                       </td> <td>0              </td> <td>0                  </td> <td>0                   </td> <td>0              </td> <td>0                    </td> <td>0            </td> <td>0                 </td> <td>0           </td> <td>0                     </td> <td>0               </td> <td>0                </td> <td>0                  </td> <td>0              </td> <td>0        </td> <td>0                  </td> <td>0                 </td> <td>0           </td>\n",
       "        </tr>\n",
       "        <tr>\n",
       "            <td>PF      </td> <td>76           </td> <td>0                          </td> <td>65            </td> <td>19           </td> <td>25               </td> <td>23               </td> <td>62           </td> <td>41                 </td> <td>43              </td> <td>57            </td> <td>71             </td> <td>0                                </td> <td>51                   </td> <td>64             </td> <td>64            </td> <td>52         </td> <td>4                   </td> <td>53                </td> <td>1                          </td> <td>0                 </td> <td>56               </td> <td>72        </td> <td>78             </td> <td>61                    </td> <td>3                         </td> <td>4                       </td> <td>32             </td> <td>15                 </td> <td>20                  </td> <td>71             </td> <td>26                   </td> <td>55           </td> <td>81                </td> <td>51          </td> <td>60                    </td> <td>68              </td> <td>33               </td> <td>16                 </td> <td>62             </td> <td>38       </td> <td>6                  </td> <td>52                </td> <td>0           </td>\n",
       "        </tr>\n",
       "        <tr>\n",
       "            <td>PG      </td> <td>37           </td> <td>0                          </td> <td>52            </td> <td>21           </td> <td>22               </td> <td>24               </td> <td>42           </td> <td>44                 </td> <td>52              </td> <td>40            </td> <td>53             </td> <td>0                                </td> <td>47                   </td> <td>53             </td> <td>53            </td> <td>57         </td> <td>2                   </td> <td>48                </td> <td>0                          </td> <td>0                 </td> <td>60               </td> <td>28        </td> <td>51             </td> <td>54                    </td> <td>2                         </td> <td>3                       </td> <td>25             </td> <td>15                 </td> <td>20                  </td> <td>51             </td> <td>49                   </td> <td>53           </td> <td>42                </td> <td>56          </td> <td>50                    </td> <td>55              </td> <td>43               </td> <td>20                 </td> <td>40             </td> <td>53       </td> <td>3                  </td> <td>55                </td> <td>0           </td>\n",
       "        </tr>\n",
       "        <tr>\n",
       "            <td>SF      </td> <td>24           </td> <td>0                          </td> <td>30            </td> <td>33           </td> <td>31               </td> <td>20               </td> <td>35           </td> <td>46                 </td> <td>36              </td> <td>45            </td> <td>43             </td> <td>0                                </td> <td>52                   </td> <td>40             </td> <td>49            </td> <td>48         </td> <td>3                   </td> <td>69                </td> <td>0                          </td> <td>4                 </td> <td>60               </td> <td>50        </td> <td>50             </td> <td>53                    </td> <td>2                         </td> <td>5                       </td> <td>27             </td> <td>24                 </td> <td>24                  </td> <td>53             </td> <td>38                   </td> <td>47           </td> <td>34                </td> <td>55          </td> <td>40                    </td> <td>59              </td> <td>49               </td> <td>14                 </td> <td>56             </td> <td>54       </td> <td>0                  </td> <td>52                </td> <td>0           </td>\n",
       "        </tr>\n",
       "        <tr>\n",
       "            <td>SG      </td> <td>59           </td> <td>0                          </td> <td>46            </td> <td>30           </td> <td>29               </td> <td>30               </td> <td>58           </td> <td>62                 </td> <td>50              </td> <td>49            </td> <td>47             </td> <td>0                                </td> <td>58                   </td> <td>51             </td> <td>44            </td> <td>62         </td> <td>2                   </td> <td>41                </td> <td>0                          </td> <td>2                 </td> <td>68               </td> <td>60        </td> <td>49             </td> <td>57                    </td> <td>3                         </td> <td>1                       </td> <td>27             </td> <td>17                 </td> <td>26                  </td> <td>64             </td> <td>40                   </td> <td>49           </td> <td>83                </td> <td>68          </td> <td>63                    </td> <td>56              </td> <td>52               </td> <td>18                 </td> <td>62             </td> <td>60       </td> <td>0                  </td> <td>56                </td> <td>0           </td>\n",
       "        </tr>\n",
       "        <tr>\n",
       "            <td>nan     </td> <td>0            </td> <td>0                          </td> <td>1             </td> <td>0            </td> <td>0                </td> <td>0                </td> <td>1            </td> <td>0                  </td> <td>2               </td> <td>0             </td> <td>0              </td> <td>0                                </td> <td>0                    </td> <td>1              </td> <td>0             </td> <td>0          </td> <td>0                   </td> <td>0                 </td> <td>0                          </td> <td>0                 </td> <td>0                </td> <td>1         </td> <td>0              </td> <td>0                     </td> <td>0                         </td> <td>0                       </td> <td>0              </td> <td>0                  </td> <td>0                   </td> <td>5              </td> <td>0                    </td> <td>0            </td> <td>1                 </td> <td>0           </td> <td>0                     </td> <td>0               </td> <td>0                </td> <td>0                  </td> <td>0              </td> <td>1        </td> <td>0                  </td> <td>0                 </td> <td>44          </td>\n",
       "        </tr>\n",
       "    </tbody>\n",
       "</table>"
      ],
      "text/plain": [
       "position | Atlanta Hawks | Bilbao Basket Bilbao Basket | Boston Celtics | Brooklyn Nets | Charlotte Bobcats | Charlotte Hornets | Chicago Bulls | Cleveland Cavaliers | Dallas Mavericks | Denver Nuggets | Detroit Pistons | Fenerbahce Ulker Fenerbahce Ulker | Golden State Warriors | Houston Rockets | Indiana Pacers | LA Clippers | Los Angeles Clippers | Los Angeles Lakers | Maccabi Haifa Maccabi Haifa | Madrid Real Madrid | Memphis Grizzlies | Miami Heat | Milwaukee Bucks | Minnesota Timberwolves | NO/Oklahoma City\n",
       " Hornets | NO/Oklahoma City Hornets | New Jersey Nets | New Orleans Hornets | New Orleans Pelicans | New York Knicks | Oklahoma City Thunder | Orlando Magic | Philadelphia 76ers | Phoenix Suns | Portland Trail Blazers | Sacramento Kings | San Antonio Spurs | Seattle SuperSonics | Toronto Raptors | Utah Jazz | Vancouver Grizzlies | Washington Wizards | null Unknown\n",
       "C        | 41            | 1                           | 46             | 27            | 46                | 31                | 48            | 66                  | 54               | 49             | 34              | 3                                 | 61                    | 52              | 54             | 48          | 4                    | 60                 | 0                           | 1                  | 47                | 50         | 45              | 59                     | 0                          | 1                        | 34              | 18                  | 25                   | 68              | 47                    | 54            | 70                 | 58           | 73                     | 65               | 69                | 29                  | 70              | 69        | 3                   | 85                 | 0\n",
       "F        | 14            | 0                           | 10             | 12            | 1                 | 3                 | 22            | 12                  | 32               | 21             | 18              | 0                                 | 21                    | 22              | 16             | 11          | 2                    | 12                 | 2                           | 0                  | 37                | 19         | 15              | 16                     | 1                          | 1                        | 14              | 11                  | 12                   | 16              | 26                    | 10            | 25                 | 19           | 19                     | 13               | 27                | 6                   | 13              | 18        | 2                   | 27                 | 0\n",
       "G        | 30            | 0                           | 17             | 29            | 8                 | 19                | 17            | 12                  | 28               | 24             | 17              | 0                                 | 21                    | 16              | 23             | 16          | 0                    | 25                 | 0                           | 0                  | 26                | 28         | 24              | 11                     | 0                          | 0                        | 8               | 2                   | 11                   | 18              | 12                    | 29            | 15                 | 25           | 20                     | 20               | 51                | 3                   | 34              | 21        | 6                   | 30                 | 0\n",
       "GF       | 0             | 0                           | 0              | 0             | 0                 | 0                 | 0             | 0                   | 0                | 0              | 0               | 0                                 | 0                     | 0               | 0              | 0           | 0                    | 0                  | 0                           | 0                  | 0                 | 0          | 1               | 0                      | 0                          | 0                        | 0               | 0                   | 0                    | 0               | 0                     | 0             | 0                  | 0            | 0                      | 0                | 0                 | 0                   | 0               | 0         | 0                   | 0                  | 0\n",
       "PF       | 76            | 0                           | 65             | 19            | 25                | 23                | 62            | 41                  | 43               | 57             | 71              | 0                                 | 51                    | 64              | 64             | 52          | 4                    | 53                 | 1                           | 0                  | 56                | 72         | 78              | 61                     | 3                          | 4                        | 32              | 15                  | 20                   | 71              | 26                    | 55            | 81                 | 51           | 60                     | 68               | 33                | 16                  | 62              | 38        | 6                   | 52                 | 0\n",
       "PG       | 37            | 0                           | 52             | 21            | 22                | 24                | 42            | 44                  | 52               | 40             | 53              | 0                                 | 47                    | 53              | 53             | 57          | 2                    | 48                 | 0                           | 0                  | 60                | 28         | 51              | 54                     | 2                          | 3                        | 25              | 15                  | 20                   | 51              | 49                    | 53            | 42                 | 56           | 50                     | 55               | 43                | 20                  | 40              | 53        | 3                   | 55                 | 0\n",
       "SF       | 24            | 0                           | 30             | 33            | 31                | 20                | 35            | 46                  | 36               | 45             | 43              | 0                                 | 52                    | 40              | 49             | 48          | 3                    | 69                 | 0                           | 4                  | 60                | 50         | 50              | 53                     | 2                          | 5                        | 27              | 24                  | 24                   | 53              | 38                    | 47            | 34                 | 55           | 40                     | 59               | 49                | 14                  | 56              | 54        | 0                   | 52                 | 0\n",
       "SG       | 59            | 0                           | 46             | 30            | 29                | 30                | 58            | 62                  | 50               | 49             | 47              | 0                                 | 58                    | 51              | 44             | 62          | 2                    | 41                 | 0                           | 2                  | 68                | 60         | 49              | 57                     | 3                          | 1                        | 27              | 17                  | 26                   | 64              | 40                    | 49            | 83                 | 68           | 63                     | 56               | 52                | 18                  | 62              | 60        | 0                   | 56                 | 0\n",
       "nan      | 0             | 0                           | 1              | 0             | 0                 | 0                 | 1             | 0                   | 2                | 0              | 0               | 0                                 | 0                     | 1               | 0              | 0           | 0                    | 0                  | 0                           | 0                  | 0                 | 1          | 0               | 0                      | 0                          | 0                        | 0               | 0                   | 0                    | 5               | 0                     | 0             | 1                  | 0            | 0                      | 0                | 0                 | 0                   | 0               | 1         | 0                   | 0                  | 44"
      ]
     },
     "execution_count": 6,
     "metadata": {},
     "output_type": "execute_result"
    }
   ],
   "source": [
    "nba.pivot('team', 'position')"
   ]
  },
  {
   "cell_type": "code",
   "execution_count": 7,
   "metadata": {
    "tags": []
   },
   "outputs": [
    {
     "data": {
      "text/html": [
       "<table border=\"1\" class=\"dataframe\">\n",
       "    <thead>\n",
       "        <tr>\n",
       "            <th>team</th> <th>C</th> <th>F</th> <th>G</th> <th>GF</th> <th>PF</th> <th>PG</th> <th>SF</th> <th>SG</th> <th>nan</th>\n",
       "        </tr>\n",
       "    </thead>\n",
       "    <tbody>\n",
       "        <tr>\n",
       "            <td>Atlanta Hawks              </td> <td>41  </td> <td>14  </td> <td>30  </td> <td>0   </td> <td>76  </td> <td>37  </td> <td>24  </td> <td>59  </td> <td>0   </td>\n",
       "        </tr>\n",
       "        <tr>\n",
       "            <td>Bilbao Basket Bilbao Basket</td> <td>1   </td> <td>0   </td> <td>0   </td> <td>0   </td> <td>0   </td> <td>0   </td> <td>0   </td> <td>0   </td> <td>0   </td>\n",
       "        </tr>\n",
       "        <tr>\n",
       "            <td>Boston Celtics             </td> <td>46  </td> <td>10  </td> <td>17  </td> <td>0   </td> <td>65  </td> <td>52  </td> <td>30  </td> <td>46  </td> <td>1   </td>\n",
       "        </tr>\n",
       "        <tr>\n",
       "            <td>Brooklyn Nets              </td> <td>27  </td> <td>12  </td> <td>29  </td> <td>0   </td> <td>19  </td> <td>21  </td> <td>33  </td> <td>30  </td> <td>0   </td>\n",
       "        </tr>\n",
       "        <tr>\n",
       "            <td>Charlotte Bobcats          </td> <td>46  </td> <td>1   </td> <td>8   </td> <td>0   </td> <td>25  </td> <td>22  </td> <td>31  </td> <td>29  </td> <td>0   </td>\n",
       "        </tr>\n",
       "        <tr>\n",
       "            <td>Charlotte Hornets          </td> <td>31  </td> <td>3   </td> <td>19  </td> <td>0   </td> <td>23  </td> <td>24  </td> <td>20  </td> <td>30  </td> <td>0   </td>\n",
       "        </tr>\n",
       "        <tr>\n",
       "            <td>Chicago Bulls              </td> <td>48  </td> <td>22  </td> <td>17  </td> <td>0   </td> <td>62  </td> <td>42  </td> <td>35  </td> <td>58  </td> <td>1   </td>\n",
       "        </tr>\n",
       "        <tr>\n",
       "            <td>Cleveland Cavaliers        </td> <td>66  </td> <td>12  </td> <td>12  </td> <td>0   </td> <td>41  </td> <td>44  </td> <td>46  </td> <td>62  </td> <td>0   </td>\n",
       "        </tr>\n",
       "        <tr>\n",
       "            <td>Dallas Mavericks           </td> <td>54  </td> <td>32  </td> <td>28  </td> <td>0   </td> <td>43  </td> <td>52  </td> <td>36  </td> <td>50  </td> <td>2   </td>\n",
       "        </tr>\n",
       "        <tr>\n",
       "            <td>Denver Nuggets             </td> <td>49  </td> <td>21  </td> <td>24  </td> <td>0   </td> <td>57  </td> <td>40  </td> <td>45  </td> <td>49  </td> <td>0   </td>\n",
       "        </tr>\n",
       "    </tbody>\n",
       "</table>\n",
       "<p>... (33 rows omitted)</p>"
      ],
      "text/plain": [
       "team                        | C    | F    | G    | GF   | PF   | PG   | SF   | SG   | nan\n",
       "Atlanta Hawks               | 41   | 14   | 30   | 0    | 76   | 37   | 24   | 59   | 0\n",
       "Bilbao Basket Bilbao Basket | 1    | 0    | 0    | 0    | 0    | 0    | 0    | 0    | 0\n",
       "Boston Celtics              | 46   | 10   | 17   | 0    | 65   | 52   | 30   | 46   | 1\n",
       "Brooklyn Nets               | 27   | 12   | 29   | 0    | 19   | 21   | 33   | 30   | 0\n",
       "Charlotte Bobcats           | 46   | 1    | 8    | 0    | 25   | 22   | 31   | 29   | 0\n",
       "Charlotte Hornets           | 31   | 3    | 19   | 0    | 23   | 24   | 20   | 30   | 0\n",
       "Chicago Bulls               | 48   | 22   | 17   | 0    | 62   | 42   | 35   | 58   | 1\n",
       "Cleveland Cavaliers         | 66   | 12   | 12   | 0    | 41   | 44   | 46   | 62   | 0\n",
       "Dallas Mavericks            | 54   | 32   | 28   | 0    | 43   | 52   | 36   | 50   | 2\n",
       "Denver Nuggets              | 49   | 21   | 24   | 0    | 57   | 40   | 45   | 49   | 0\n",
       "... (33 rows omitted)"
      ]
     },
     "execution_count": 7,
     "metadata": {},
     "output_type": "execute_result"
    }
   ],
   "source": [
    "# This one is easier to read\n",
    "\n",
    "nba.pivot('position', 'team')"
   ]
  },
  {
   "cell_type": "markdown",
   "metadata": {},
   "source": [
    "Optionally, you can ask pivot to do the following: for each Position/Team combo, find all the **values** of another attribute and **collect** them in some way; display this in the cell.\n",
    "\n",
    "- The `values` argument has to be the column label of the new attribute\n",
    "- The `collect` argument has to be the name of a function"
   ]
  },
  {
   "cell_type": "code",
   "execution_count": 9,
   "metadata": {
    "tags": []
   },
   "outputs": [
    {
     "data": {
      "text/html": [
       "<table border=\"1\" class=\"dataframe\">\n",
       "    <thead>\n",
       "        <tr>\n",
       "            <th>team</th> <th>C</th> <th>F</th> <th>G</th> <th>GF</th> <th>PF</th> <th>PG</th> <th>SF</th> <th>SG</th> <th>nan</th>\n",
       "        </tr>\n",
       "    </thead>\n",
       "    <tbody>\n",
       "        <tr>\n",
       "            <td>Atlanta Hawks              </td> <td>41  </td> <td>14  </td> <td>30  </td> <td>0   </td> <td>76  </td> <td>37  </td> <td>24  </td> <td>59  </td> <td>0   </td>\n",
       "        </tr>\n",
       "        <tr>\n",
       "            <td>Bilbao Basket Bilbao Basket</td> <td>1   </td> <td>0   </td> <td>0   </td> <td>0   </td> <td>0   </td> <td>0   </td> <td>0   </td> <td>0   </td> <td>0   </td>\n",
       "        </tr>\n",
       "        <tr>\n",
       "            <td>Boston Celtics             </td> <td>46  </td> <td>10  </td> <td>17  </td> <td>0   </td> <td>65  </td> <td>52  </td> <td>30  </td> <td>46  </td> <td>1   </td>\n",
       "        </tr>\n",
       "        <tr>\n",
       "            <td>Brooklyn Nets              </td> <td>27  </td> <td>12  </td> <td>29  </td> <td>0   </td> <td>19  </td> <td>21  </td> <td>33  </td> <td>30  </td> <td>0   </td>\n",
       "        </tr>\n",
       "        <tr>\n",
       "            <td>Charlotte Bobcats          </td> <td>46  </td> <td>1   </td> <td>8   </td> <td>0   </td> <td>25  </td> <td>22  </td> <td>31  </td> <td>29  </td> <td>0   </td>\n",
       "        </tr>\n",
       "        <tr>\n",
       "            <td>Charlotte Hornets          </td> <td>31  </td> <td>3   </td> <td>19  </td> <td>0   </td> <td>23  </td> <td>24  </td> <td>20  </td> <td>30  </td> <td>0   </td>\n",
       "        </tr>\n",
       "        <tr>\n",
       "            <td>Chicago Bulls              </td> <td>48  </td> <td>22  </td> <td>17  </td> <td>0   </td> <td>62  </td> <td>42  </td> <td>35  </td> <td>58  </td> <td>1   </td>\n",
       "        </tr>\n",
       "        <tr>\n",
       "            <td>Cleveland Cavaliers        </td> <td>66  </td> <td>12  </td> <td>12  </td> <td>0   </td> <td>41  </td> <td>44  </td> <td>46  </td> <td>62  </td> <td>0   </td>\n",
       "        </tr>\n",
       "        <tr>\n",
       "            <td>Dallas Mavericks           </td> <td>54  </td> <td>32  </td> <td>28  </td> <td>0   </td> <td>43  </td> <td>52  </td> <td>36  </td> <td>50  </td> <td>2   </td>\n",
       "        </tr>\n",
       "        <tr>\n",
       "            <td>Denver Nuggets             </td> <td>49  </td> <td>21  </td> <td>24  </td> <td>0   </td> <td>57  </td> <td>40  </td> <td>45  </td> <td>49  </td> <td>0   </td>\n",
       "        </tr>\n",
       "    </tbody>\n",
       "</table>\n",
       "<p>... (33 rows omitted)</p>"
      ],
      "text/plain": [
       "team                        | C    | F    | G    | GF   | PF   | PG   | SF   | SG   | nan\n",
       "Atlanta Hawks               | 41   | 14   | 30   | 0    | 76   | 37   | 24   | 59   | 0\n",
       "Bilbao Basket Bilbao Basket | 1    | 0    | 0    | 0    | 0    | 0    | 0    | 0    | 0\n",
       "Boston Celtics              | 46   | 10   | 17   | 0    | 65   | 52   | 30   | 46   | 1\n",
       "Brooklyn Nets               | 27   | 12   | 29   | 0    | 19   | 21   | 33   | 30   | 0\n",
       "Charlotte Bobcats           | 46   | 1    | 8    | 0    | 25   | 22   | 31   | 29   | 0\n",
       "Charlotte Hornets           | 31   | 3    | 19   | 0    | 23   | 24   | 20   | 30   | 0\n",
       "Chicago Bulls               | 48   | 22   | 17   | 0    | 62   | 42   | 35   | 58   | 1\n",
       "Cleveland Cavaliers         | 66   | 12   | 12   | 0    | 41   | 44   | 46   | 62   | 0\n",
       "Dallas Mavericks            | 54   | 32   | 28   | 0    | 43   | 52   | 36   | 50   | 2\n",
       "Denver Nuggets              | 49   | 21   | 24   | 0    | 57   | 40   | 45   | 49   | 0\n",
       "... (33 rows omitted)"
      ]
     },
     "execution_count": 9,
     "metadata": {},
     "output_type": "execute_result"
    }
   ],
   "source": [
    "# List the number of players in each Position/Team combo\n",
    "\n",
    "nba.pivot('position', 'team', values='name', collect=len)"
   ]
  },
  {
   "cell_type": "code",
   "execution_count": 10,
   "metadata": {
    "tags": []
   },
   "outputs": [
    {
     "data": {
      "text/html": [
       "<table border=\"1\" class=\"dataframe\">\n",
       "    <thead>\n",
       "        <tr>\n",
       "            <th>team</th> <th>C</th> <th>F</th> <th>G</th> <th>GF</th> <th>PF</th> <th>PG</th> <th>SF</th> <th>SG</th> <th>nan</th>\n",
       "        </tr>\n",
       "    </thead>\n",
       "    <tbody>\n",
       "        <tr>\n",
       "            <td>Atlanta Hawks              </td> <td>167786305</td> <td>19114456 </td> <td>144716396</td> <td>0   </td> <td>379273467</td> <td>146668267</td> <td>90204142 </td> <td>198582044</td> <td>0       </td>\n",
       "        </tr>\n",
       "        <tr>\n",
       "            <td>Bilbao Basket Bilbao Basket</td> <td>5543116  </td> <td>0        </td> <td>0        </td> <td>0   </td> <td>0        </td> <td>0        </td> <td>0        </td> <td>0        </td> <td>0       </td>\n",
       "        </tr>\n",
       "        <tr>\n",
       "            <td>Boston Celtics             </td> <td>136738685</td> <td>44235545 </td> <td>26556547 </td> <td>0   </td> <td>423388103</td> <td>269988471</td> <td>287438409</td> <td>164692464</td> <td>427163  </td>\n",
       "        </tr>\n",
       "        <tr>\n",
       "            <td>Brooklyn Nets              </td> <td>157706028</td> <td>28719216 </td> <td>158331874</td> <td>0   </td> <td>88437875 </td> <td>138683865</td> <td>170622958</td> <td>49438906 </td> <td>0       </td>\n",
       "        </tr>\n",
       "        <tr>\n",
       "            <td>Charlotte Bobcats          </td> <td>189388764</td> <td>762195   </td> <td>32332551 </td> <td>0   </td> <td>60065155 </td> <td>45691114 </td> <td>124696887</td> <td>93995007 </td> <td>0       </td>\n",
       "        </tr>\n",
       "        <tr>\n",
       "            <td>Charlotte Hornets          </td> <td>212424437</td> <td>3265000  </td> <td>33271855 </td> <td>0   </td> <td>113266795</td> <td>100490458</td> <td>83100164 </td> <td>180976038</td> <td>0       </td>\n",
       "        </tr>\n",
       "        <tr>\n",
       "            <td>Chicago Bulls              </td> <td>262283880</td> <td>116236318</td> <td>43404078 </td> <td>0   </td> <td>241082449</td> <td>218527882</td> <td>142778137</td> <td>172461892</td> <td>2232000 </td>\n",
       "        </tr>\n",
       "        <tr>\n",
       "            <td>Cleveland Cavaliers        </td> <td>358604720</td> <td>43201357 </td> <td>16726444 </td> <td>0   </td> <td>277027312</td> <td>194172781</td> <td>214284006</td> <td>237873870</td> <td>0       </td>\n",
       "        </tr>\n",
       "        <tr>\n",
       "            <td>Dallas Mavericks           </td> <td>234487317</td> <td>265978833</td> <td>114687338</td> <td>0   </td> <td>131441624</td> <td>172631921</td> <td>179610388</td> <td>284300083</td> <td>12384981</td>\n",
       "        </tr>\n",
       "        <tr>\n",
       "            <td>Denver Nuggets             </td> <td>249468229</td> <td>82463987 </td> <td>68064130 </td> <td>0   </td> <td>472428840</td> <td>119530666</td> <td>129684774</td> <td>156051843</td> <td>0       </td>\n",
       "        </tr>\n",
       "    </tbody>\n",
       "</table>\n",
       "<p>... (33 rows omitted)</p>"
      ],
      "text/plain": [
       "team                        | C         | F         | G         | GF   | PF        | PG        | SF        | SG        | nan\n",
       "Atlanta Hawks               | 167786305 | 19114456  | 144716396 | 0    | 379273467 | 146668267 | 90204142  | 198582044 | 0\n",
       "Bilbao Basket Bilbao Basket | 5543116   | 0         | 0         | 0    | 0         | 0         | 0         | 0         | 0\n",
       "Boston Celtics              | 136738685 | 44235545  | 26556547  | 0    | 423388103 | 269988471 | 287438409 | 164692464 | 427163\n",
       "Brooklyn Nets               | 157706028 | 28719216  | 158331874 | 0    | 88437875  | 138683865 | 170622958 | 49438906  | 0\n",
       "Charlotte Bobcats           | 189388764 | 762195    | 32332551  | 0    | 60065155  | 45691114  | 124696887 | 93995007  | 0\n",
       "Charlotte Hornets           | 212424437 | 3265000   | 33271855  | 0    | 113266795 | 100490458 | 83100164  | 180976038 | 0\n",
       "Chicago Bulls               | 262283880 | 116236318 | 43404078  | 0    | 241082449 | 218527882 | 142778137 | 172461892 | 2232000\n",
       "Cleveland Cavaliers         | 358604720 | 43201357  | 16726444  | 0    | 277027312 | 194172781 | 214284006 | 237873870 | 0\n",
       "Dallas Mavericks            | 234487317 | 265978833 | 114687338 | 0    | 131441624 | 172631921 | 179610388 | 284300083 | 12384981\n",
       "Denver Nuggets              | 249468229 | 82463987  | 68064130  | 0    | 472428840 | 119530666 | 129684774 | 156051843 | 0\n",
       "... (33 rows omitted)"
      ]
     },
     "execution_count": 10,
     "metadata": {},
     "output_type": "execute_result"
    }
   ],
   "source": [
    "# total salary in each Position/Team combo\n",
    "\n",
    "nba.pivot('position', 'team', values='salary', collect=sum)"
   ]
  },
  {
   "cell_type": "code",
   "execution_count": 11,
   "metadata": {
    "tags": []
   },
   "outputs": [
    {
     "data": {
      "text/html": [
       "<table border=\"1\" class=\"dataframe\">\n",
       "    <thead>\n",
       "        <tr>\n",
       "            <th>team</th> <th>C</th> <th>F</th> <th>G</th> <th>GF</th> <th>PF</th> <th>PG</th> <th>SF</th> <th>SG</th> <th>nan</th>\n",
       "        </tr>\n",
       "    </thead>\n",
       "    <tbody>\n",
       "        <tr>\n",
       "            <td>Atlanta Hawks              </td> <td>167786305</td> <td>19114456 </td> <td>144716396</td> <td>0   </td> <td>379273467</td> <td>146668267</td> <td>90204142 </td> <td>198582044</td> <td>0       </td>\n",
       "        </tr>\n",
       "        <tr>\n",
       "            <td>Bilbao Basket Bilbao Basket</td> <td>5543116  </td> <td>0        </td> <td>0        </td> <td>0   </td> <td>0        </td> <td>0        </td> <td>0        </td> <td>0        </td> <td>0       </td>\n",
       "        </tr>\n",
       "        <tr>\n",
       "            <td>Boston Celtics             </td> <td>136738685</td> <td>44235545 </td> <td>26556547 </td> <td>0   </td> <td>423388103</td> <td>269988471</td> <td>287438409</td> <td>164692464</td> <td>427163  </td>\n",
       "        </tr>\n",
       "        <tr>\n",
       "            <td>Brooklyn Nets              </td> <td>157706028</td> <td>28719216 </td> <td>158331874</td> <td>0   </td> <td>88437875 </td> <td>138683865</td> <td>170622958</td> <td>49438906 </td> <td>0       </td>\n",
       "        </tr>\n",
       "        <tr>\n",
       "            <td>Charlotte Bobcats          </td> <td>189388764</td> <td>762195   </td> <td>32332551 </td> <td>0   </td> <td>60065155 </td> <td>45691114 </td> <td>124696887</td> <td>93995007 </td> <td>0       </td>\n",
       "        </tr>\n",
       "        <tr>\n",
       "            <td>Charlotte Hornets          </td> <td>212424437</td> <td>3265000  </td> <td>33271855 </td> <td>0   </td> <td>113266795</td> <td>100490458</td> <td>83100164 </td> <td>180976038</td> <td>0       </td>\n",
       "        </tr>\n",
       "        <tr>\n",
       "            <td>Chicago Bulls              </td> <td>262283880</td> <td>116236318</td> <td>43404078 </td> <td>0   </td> <td>241082449</td> <td>218527882</td> <td>142778137</td> <td>172461892</td> <td>2232000 </td>\n",
       "        </tr>\n",
       "        <tr>\n",
       "            <td>Cleveland Cavaliers        </td> <td>358604720</td> <td>43201357 </td> <td>16726444 </td> <td>0   </td> <td>277027312</td> <td>194172781</td> <td>214284006</td> <td>237873870</td> <td>0       </td>\n",
       "        </tr>\n",
       "        <tr>\n",
       "            <td>Dallas Mavericks           </td> <td>234487317</td> <td>265978833</td> <td>114687338</td> <td>0   </td> <td>131441624</td> <td>172631921</td> <td>179610388</td> <td>284300083</td> <td>12384981</td>\n",
       "        </tr>\n",
       "        <tr>\n",
       "            <td>Denver Nuggets             </td> <td>249468229</td> <td>82463987 </td> <td>68064130 </td> <td>0   </td> <td>472428840</td> <td>119530666</td> <td>129684774</td> <td>156051843</td> <td>0       </td>\n",
       "        </tr>\n",
       "    </tbody>\n",
       "</table>\n",
       "<p>... (33 rows omitted)</p>"
      ],
      "text/plain": [
       "team                        | C         | F         | G         | GF   | PF        | PG        | SF        | SG        | nan\n",
       "Atlanta Hawks               | 167786305 | 19114456  | 144716396 | 0    | 379273467 | 146668267 | 90204142  | 198582044 | 0\n",
       "Bilbao Basket Bilbao Basket | 5543116   | 0         | 0         | 0    | 0         | 0         | 0         | 0         | 0\n",
       "Boston Celtics              | 136738685 | 44235545  | 26556547  | 0    | 423388103 | 269988471 | 287438409 | 164692464 | 427163\n",
       "Brooklyn Nets               | 157706028 | 28719216  | 158331874 | 0    | 88437875  | 138683865 | 170622958 | 49438906  | 0\n",
       "Charlotte Bobcats           | 189388764 | 762195    | 32332551  | 0    | 60065155  | 45691114  | 124696887 | 93995007  | 0\n",
       "Charlotte Hornets           | 212424437 | 3265000   | 33271855  | 0    | 113266795 | 100490458 | 83100164  | 180976038 | 0\n",
       "Chicago Bulls               | 262283880 | 116236318 | 43404078  | 0    | 241082449 | 218527882 | 142778137 | 172461892 | 2232000\n",
       "Cleveland Cavaliers         | 358604720 | 43201357  | 16726444  | 0    | 277027312 | 194172781 | 214284006 | 237873870 | 0\n",
       "Dallas Mavericks            | 234487317 | 265978833 | 114687338 | 0    | 131441624 | 172631921 | 179610388 | 284300083 | 12384981\n",
       "Denver Nuggets              | 249468229 | 82463987  | 68064130  | 0    | 472428840 | 119530666 | 129684774 | 156051843 | 0\n",
       "... (33 rows omitted)"
      ]
     },
     "execution_count": 11,
     "metadata": {},
     "output_type": "execute_result"
    }
   ],
   "source": [
    "# You don't have to type \"values = ...\" and \"collect = \"\n",
    "# But you MUST put the arguments in the correct order\n",
    "\n",
    "nba.pivot('position', 'team', 'salary', sum)"
   ]
  },
  {
   "cell_type": "code",
   "execution_count": 12,
   "metadata": {
    "tags": []
   },
   "outputs": [
    {
     "data": {
      "text/html": [
       "<table border=\"1\" class=\"dataframe\">\n",
       "    <thead>\n",
       "        <tr>\n",
       "            <th>team</th> <th>C</th> <th>F</th> <th>G</th> <th>GF</th> <th>PF</th> <th>PG</th> <th>SF</th> <th>SG</th> <th>nan</th>\n",
       "        </tr>\n",
       "    </thead>\n",
       "    <tbody>\n",
       "        <tr>\n",
       "            <td>Atlanta Hawks              </td> <td>2.95284e+06</td> <td>1.20314e+06</td> <td>1.59978e+06</td> <td>0   </td> <td>3.8144e+06 </td> <td>2.70858e+06</td> <td>2.35373e+06</td> <td>1.5e+06    </td> <td>0          </td>\n",
       "        </tr>\n",
       "        <tr>\n",
       "            <td>Bilbao Basket Bilbao Basket</td> <td>5.54312e+06</td> <td>0          </td> <td>0          </td> <td>0   </td> <td>0          </td> <td>0          </td> <td>0          </td> <td>0          </td> <td>0          </td>\n",
       "        </tr>\n",
       "        <tr>\n",
       "            <td>Boston Celtics             </td> <td>1.96876e+06</td> <td>2.45754e+06</td> <td>1.14864e+06</td> <td>0   </td> <td>3.125e+06  </td> <td>2.17066e+06</td> <td>5.8307e+06 </td> <td>1.67461e+06</td> <td>427163     </td>\n",
       "        </tr>\n",
       "        <tr>\n",
       "            <td>Brooklyn Nets              </td> <td>2.03412e+06</td> <td>1.07797e+06</td> <td>1.07472e+06</td> <td>0   </td> <td>3.22905e+06</td> <td>1.94242e+06</td> <td>2.47036e+06</td> <td>1.43242e+06</td> <td>0          </td>\n",
       "        </tr>\n",
       "        <tr>\n",
       "            <td>Charlotte Bobcats          </td> <td>2.92398e+06</td> <td>762195     </td> <td>3.82436e+06</td> <td>0   </td> <td>1.944e+06  </td> <td>2.28624e+06</td> <td>3.61668e+06</td> <td>1.99e+06   </td> <td>0          </td>\n",
       "        </tr>\n",
       "        <tr>\n",
       "            <td>Charlotte Hornets          </td> <td>4.03056e+06</td> <td>1.182e+06  </td> <td>874636     </td> <td>0   </td> <td>3.83184e+06</td> <td>2.722e+06  </td> <td>2.4e+06    </td> <td>3.13718e+06</td> <td>0          </td>\n",
       "        </tr>\n",
       "        <tr>\n",
       "            <td>Chicago Bulls              </td> <td>3.56427e+06</td> <td>3.52317e+06</td> <td>1.34938e+06</td> <td>0   </td> <td>1.81716e+06</td> <td>3.10376e+06</td> <td>2.00875e+06</td> <td>2.1461e+06 </td> <td>2.232e+06  </td>\n",
       "        </tr>\n",
       "        <tr>\n",
       "            <td>Cleveland Cavaliers        </td> <td>2.44508e+06</td> <td>2.33865e+06</td> <td>709054     </td> <td>0   </td> <td>4.06581e+06</td> <td>3.76886e+06</td> <td>2.84107e+06</td> <td>2.225e+06  </td> <td>0          </td>\n",
       "        </tr>\n",
       "        <tr>\n",
       "            <td>Dallas Mavericks           </td> <td>3.071e+06  </td> <td>5e+06      </td> <td>3.16656e+06</td> <td>0   </td> <td>854389     </td> <td>1.56028e+06</td> <td>1.7375e+06 </td> <td>4.01e+06   </td> <td>6.19249e+06</td>\n",
       "        </tr>\n",
       "        <tr>\n",
       "            <td>Denver Nuggets             </td> <td>3.3439e+06 </td> <td>2.2e+06    </td> <td>1.50897e+06</td> <td>0   </td> <td>4.95238e+06</td> <td>2.10525e+06</td> <td>1.36992e+06</td> <td>1.62732e+06</td> <td>0          </td>\n",
       "        </tr>\n",
       "    </tbody>\n",
       "</table>\n",
       "<p>... (33 rows omitted)</p>"
      ],
      "text/plain": [
       "team                        | C           | F           | G           | GF   | PF          | PG          | SF          | SG          | nan\n",
       "Atlanta Hawks               | 2.95284e+06 | 1.20314e+06 | 1.59978e+06 | 0    | 3.8144e+06  | 2.70858e+06 | 2.35373e+06 | 1.5e+06     | 0\n",
       "Bilbao Basket Bilbao Basket | 5.54312e+06 | 0           | 0           | 0    | 0           | 0           | 0           | 0           | 0\n",
       "Boston Celtics              | 1.96876e+06 | 2.45754e+06 | 1.14864e+06 | 0    | 3.125e+06   | 2.17066e+06 | 5.8307e+06  | 1.67461e+06 | 427163\n",
       "Brooklyn Nets               | 2.03412e+06 | 1.07797e+06 | 1.07472e+06 | 0    | 3.22905e+06 | 1.94242e+06 | 2.47036e+06 | 1.43242e+06 | 0\n",
       "Charlotte Bobcats           | 2.92398e+06 | 762195      | 3.82436e+06 | 0    | 1.944e+06   | 2.28624e+06 | 3.61668e+06 | 1.99e+06    | 0\n",
       "Charlotte Hornets           | 4.03056e+06 | 1.182e+06   | 874636      | 0    | 3.83184e+06 | 2.722e+06   | 2.4e+06     | 3.13718e+06 | 0\n",
       "Chicago Bulls               | 3.56427e+06 | 3.52317e+06 | 1.34938e+06 | 0    | 1.81716e+06 | 3.10376e+06 | 2.00875e+06 | 2.1461e+06  | 2.232e+06\n",
       "Cleveland Cavaliers         | 2.44508e+06 | 2.33865e+06 | 709054      | 0    | 4.06581e+06 | 3.76886e+06 | 2.84107e+06 | 2.225e+06   | 0\n",
       "Dallas Mavericks            | 3.071e+06   | 5e+06       | 3.16656e+06 | 0    | 854389      | 1.56028e+06 | 1.7375e+06  | 4.01e+06    | 6.19249e+06\n",
       "Denver Nuggets              | 3.3439e+06  | 2.2e+06     | 1.50897e+06 | 0    | 4.95238e+06 | 2.10525e+06 | 1.36992e+06 | 1.62732e+06 | 0\n",
       "... (33 rows omitted)"
      ]
     },
     "execution_count": 12,
     "metadata": {},
     "output_type": "execute_result"
    }
   ],
   "source": [
    "# Median salary in each Position/Team combo\n",
    "\n",
    "nba.pivot('position', 'team', 'salary', np.median)"
   ]
  },
  {
   "cell_type": "code",
   "execution_count": 13,
   "metadata": {
    "tags": []
   },
   "outputs": [],
   "source": [
    "# This function returns the distance between the max and the min of a list/array\n",
    "\n",
    "def data_range(x):\n",
    "    return max(x) - min(x)"
   ]
  },
  {
   "cell_type": "code",
   "execution_count": 14,
   "metadata": {
    "tags": []
   },
   "outputs": [
    {
     "data": {
      "text/html": [
       "<table border=\"1\" class=\"dataframe\">\n",
       "    <thead>\n",
       "        <tr>\n",
       "            <th>team</th> <th>C</th> <th>F</th> <th>G</th> <th>GF</th> <th>PF</th> <th>PG</th> <th>SF</th> <th>SG</th> <th>nan</th>\n",
       "        </tr>\n",
       "    </thead>\n",
       "    <tbody>\n",
       "        <tr>\n",
       "            <td>Atlanta Hawks              </td> <td>23132904</td> <td>2838553 </td> <td>17490573</td> <td>0   </td> <td>19933629</td> <td>15229986</td> <td>24660397</td> <td>18359600</td> <td>0       </td>\n",
       "        </tr>\n",
       "        <tr>\n",
       "            <td>Bilbao Basket Bilbao Basket</td> <td>0       </td> <td>0       </td> <td>0       </td> <td>0   </td> <td>0       </td> <td>0       </td> <td>0       </td> <td>0       </td> <td>0       </td>\n",
       "        </tr>\n",
       "        <tr>\n",
       "            <td>Boston Celtics             </td> <td>11243666</td> <td>10829040</td> <td>5617308 </td> <td>0   </td> <td>28772475</td> <td>32545993</td> <td>32674699</td> <td>18699008</td> <td>0       </td>\n",
       "        </tr>\n",
       "        <tr>\n",
       "            <td>Brooklyn Nets              </td> <td>20889984</td> <td>8742664 </td> <td>23133419</td> <td>0   </td> <td>11960131</td> <td>31637506</td> <td>38176713</td> <td>7014961 </td> <td>0       </td>\n",
       "        </tr>\n",
       "        <tr>\n",
       "            <td>Charlotte Bobcats          </td> <td>13401964</td> <td>0       </td> <td>2653836 </td> <td>0   </td> <td>7947986 </td> <td>4250959 </td> <td>10403983</td> <td>13119297</td> <td>0       </td>\n",
       "        </tr>\n",
       "        <tr>\n",
       "            <td>Charlotte Hornets          </td> <td>23752590</td> <td>517000  </td> <td>8971000 </td> <td>0   </td> <td>13926017</td> <td>19773625</td> <td>12534000</td> <td>25021746</td> <td>0       </td>\n",
       "        </tr>\n",
       "        <tr>\n",
       "            <td>Chicago Bulls              </td> <td>14041750</td> <td>14238000</td> <td>22884000</td> <td>0   </td> <td>15951146</td> <td>20035437</td> <td>27165117</td> <td>11673238</td> <td>0       </td>\n",
       "        </tr>\n",
       "        <tr>\n",
       "            <td>Cleveland Cavaliers        </td> <td>20912055</td> <td>13779601</td> <td>6259625 </td> <td>0   </td> <td>28735108</td> <td>17468723</td> <td>30536287</td> <td>14714233</td> <td>0       </td>\n",
       "        </tr>\n",
       "        <tr>\n",
       "            <td>Dallas Mavericks           </td> <td>14610002</td> <td>24952047</td> <td>11066558</td> <td>0   </td> <td>27235034</td> <td>21356016</td> <td>22831812</td> <td>19814043</td> <td>10676203</td>\n",
       "        </tr>\n",
       "        <tr>\n",
       "            <td>Denver Nuggets             </td> <td>27478630</td> <td>12447744</td> <td>11262506</td> <td>0   </td> <td>30634611</td> <td>12062380</td> <td>12719114</td> <td>18599782</td> <td>0       </td>\n",
       "        </tr>\n",
       "    </tbody>\n",
       "</table>\n",
       "<p>... (33 rows omitted)</p>"
      ],
      "text/plain": [
       "team                        | C        | F        | G        | GF   | PF       | PG       | SF       | SG       | nan\n",
       "Atlanta Hawks               | 23132904 | 2838553  | 17490573 | 0    | 19933629 | 15229986 | 24660397 | 18359600 | 0\n",
       "Bilbao Basket Bilbao Basket | 0        | 0        | 0        | 0    | 0        | 0        | 0        | 0        | 0\n",
       "Boston Celtics              | 11243666 | 10829040 | 5617308  | 0    | 28772475 | 32545993 | 32674699 | 18699008 | 0\n",
       "Brooklyn Nets               | 20889984 | 8742664  | 23133419 | 0    | 11960131 | 31637506 | 38176713 | 7014961  | 0\n",
       "Charlotte Bobcats           | 13401964 | 0        | 2653836  | 0    | 7947986  | 4250959  | 10403983 | 13119297 | 0\n",
       "Charlotte Hornets           | 23752590 | 517000   | 8971000  | 0    | 13926017 | 19773625 | 12534000 | 25021746 | 0\n",
       "Chicago Bulls               | 14041750 | 14238000 | 22884000 | 0    | 15951146 | 20035437 | 27165117 | 11673238 | 0\n",
       "Cleveland Cavaliers         | 20912055 | 13779601 | 6259625  | 0    | 28735108 | 17468723 | 30536287 | 14714233 | 0\n",
       "Dallas Mavericks            | 14610002 | 24952047 | 11066558 | 0    | 27235034 | 21356016 | 22831812 | 19814043 | 10676203\n",
       "Denver Nuggets              | 27478630 | 12447744 | 11262506 | 0    | 30634611 | 12062380 | 12719114 | 18599782 | 0\n",
       "... (33 rows omitted)"
      ]
     },
     "execution_count": 14,
     "metadata": {},
     "output_type": "execute_result"
    }
   ],
   "source": [
    "# You can use your own function as the collect\n",
    "# Distance between the max salary and min salary in each Position/Team combo\n",
    "\n",
    "nba.pivot('position', 'team', 'salary', data_range)"
   ]
  },
  {
   "cell_type": "markdown",
   "metadata": {},
   "source": [
    "# Hypothesis Testing #"
   ]
  },
  {
   "cell_type": "markdown",
   "metadata": {},
   "source": [
    "## Sample in Two Categories ##"
   ]
  },
  {
   "cell_type": "markdown",
   "metadata": {},
   "source": [
    "## Example 1\n",
    "- Jo: Every single day this bus has chance 70% of being late, regardless of other days.\n",
    "- Mo: Are you kidding? It's late more often than that!\n",
    "\n",
    "Let's test:\n",
    "- **Data:** Watch bus for 200 days, note whether late or not\n",
    "- **Null:** Every single day this bus has chance 70% of being late, regardless of other days.\n",
    "- **Alternative:** Chance of \"late\" is more than 70%\n",
    "\n",
    "Test statistic: All of the following are fine:\n",
    "- percent late - 70\n",
    "- number of days late - 140\n",
    "- number of days late\n",
    "- percent of days late\n",
    "- proportion of days late\n",
    "\n",
    "(For the P-value) Direction that supports alternative: For each of these statistics, positive values or large values support the alternative. So look right."
   ]
  },
  {
   "cell_type": "code",
   "execution_count": 15,
   "metadata": {
    "tags": []
   },
   "outputs": [],
   "source": [
    "# The simulation will be under the null hypothesis.\n",
    "\n",
    "null_proportions = make_array(0.7, 0.3)"
   ]
  },
  {
   "cell_type": "code",
   "execution_count": 16,
   "metadata": {
    "tags": []
   },
   "outputs": [],
   "source": [
    "# Suppose we choose |proportion late - .7| as the test statistic.\n",
    "# Define a function that simulates ONE value of this statistic under the null\n",
    "\n",
    "# This code depends on the null hypothesis and the choice of statistic.\n",
    "\n",
    "def distance_under_null():\n",
    "    proportion_late = sample_proportions(200, null_proportions).item(0)\n",
    "    return abs(proportion_late - 0.7)\n",
    "\n",
    "# Note: If you want to use counts instead of proportions, multiply by sample size\n",
    "# If you want to use percents instead of proportions, multiply by 100"
   ]
  },
  {
   "cell_type": "code",
   "execution_count": 17,
   "metadata": {
    "tags": []
   },
   "outputs": [],
   "source": [
    "# Simulate 10,000 values of the test statistic\n",
    "# and collect them in an array.\n",
    "# This code always looks the same.\n",
    "\n",
    "distances = make_array()\n",
    "for i in np.arange(10000):\n",
    "    distances = np.append(distances, distance_under_null())"
   ]
  },
  {
   "cell_type": "code",
   "execution_count": 18,
   "metadata": {
    "tags": []
   },
   "outputs": [
    {
     "data": {
      "image/png": "[encoded data removed]",
      "text/plain": [
       "<Figure size 600x400 with 1 Axes>"
      ]
     },
     "metadata": {},
     "output_type": "display_data"
    }
   ],
   "source": [
    "# If the null is true, this is how the statistic should behave\n",
    "\n",
    "distance_tbl = Table().with_column('Distance', distances)\n",
    "distance_tbl.hist(bins=np.arange(0, 0.14, 0.01))"
   ]
  },
  {
   "cell_type": "code",
   "execution_count": 19,
   "metadata": {
    "tags": []
   },
   "outputs": [
    {
     "data": {
      "text/plain": [
       "0.050000000000000044"
      ]
     },
     "execution_count": 19,
     "metadata": {},
     "output_type": "execute_result"
    }
   ],
   "source": [
    "# Until now, we haven't needed to use what was actually observed.\n",
    "# But at this point we have to compare the null prediction with the observed statistic.\n",
    "\n",
    "# Suppose the data are 150 times late out of 200 times\n",
    "\n",
    "observed_statistic = abs(150/200 - .7)\n",
    "observed_statistic"
   ]
  },
  {
   "cell_type": "code",
   "execution_count": 20,
   "metadata": {
    "tags": []
   },
   "outputs": [
    {
     "data": {
      "text/plain": [
       "0.1253"
      ]
     },
     "execution_count": 20,
     "metadata": {},
     "output_type": "execute_result"
    }
   ],
   "source": [
    "empirical_p = np.count_nonzero(distances >= observed_statistic) / 10000\n",
    "empirical_p"
   ]
  },
  {
   "cell_type": "markdown",
   "metadata": {},
   "source": [
    "Interpreting the P-value:\n",
    "It is the chance, assuming that the bus is late 70% of the time, that we get a statistic that is 0.05 or greater.\n",
    "\n",
    "That chance is 12.4%, which is substantial. So if the null is true there is a decent chance of getting the statistic that was actually observed or one that looks even more like the alternative. So the data are consistent with the null."
   ]
  },
  {
   "cell_type": "markdown",
   "metadata": {},
   "source": [
    "## Sample in Multiple Categories ##"
   ]
  },
  {
   "cell_type": "markdown",
   "metadata": {},
   "source": [
    "- Jo: Every single day this bus has a 50% chance of being a bit late, a 20% chance of being very late, and a 30% chance of being on time, regardless of other days.\n",
    "- Po: No it doesn't.\n",
    "\n",
    "Let's test:\n",
    "- **Data:** Watch bus for 200 days, note arrivals in the three categories\n",
    "- **Null:** Every single day this bus has a 50% chance of being a bit late, a 20% chance of being very late, and a 30% chance of being on time, regardless of other days.\n",
    "- **Alternative:** The null model is wrong.\n",
    "\n",
    "Test statistic: TVD. \n",
    "It has to be a distance (because \"wrong\"), and it has to measure the distance between two categorical distributions, not two numbers.\n",
    "\n",
    "(For the P-value) Direction that supports alternative: Big distances support the alternative. Look right."
   ]
  },
  {
   "cell_type": "code",
   "execution_count": 22,
   "metadata": {
    "tags": []
   },
   "outputs": [],
   "source": [
    "null_proportions = make_array(0.5, 0.2, 0.3)\n",
    "\n",
    "def tvd_under_null():\n",
    "    in_sample = sample_proportions(200, null_proportions)\n",
    "    return sum(abs(in_sample - null_proportions))/2"
   ]
  },
  {
   "cell_type": "code",
   "execution_count": 23,
   "metadata": {
    "tags": []
   },
   "outputs": [],
   "source": [
    "tvds = make_array()\n",
    "for i in np.arange(10000):\n",
    "    tvds = np.append(tvds, tvd_under_null())"
   ]
  },
  {
   "cell_type": "code",
   "execution_count": 24,
   "metadata": {
    "tags": []
   },
   "outputs": [
    {
     "data": {
      "image/png": "[encoded data removed]",
      "text/plain": [
       "<Figure size 600x400 with 1 Axes>"
      ]
     },
     "metadata": {},
     "output_type": "display_data"
    }
   ],
   "source": [
    "tvd_tbl = Table().with_column('TVD', tvds)\n",
    "tvd_tbl.hist(bins=np.arange(0, .12, 0.01))"
   ]
  },
  {
   "cell_type": "code",
   "execution_count": 25,
   "metadata": {
    "tags": []
   },
   "outputs": [
    {
     "data": {
      "text/plain": [
       "0.099999999999999978"
      ]
     },
     "execution_count": 25,
     "metadata": {},
     "output_type": "execute_result"
    }
   ],
   "source": [
    "# This above is the prediction made by the null hypothesis.\n",
    "# Compare with the data:\n",
    "# Suppose the data are 90 times a bit late, 60 times very late, 50 times on time\n",
    "\n",
    "observed_proportions = make_array(90, 60, 50)/200\n",
    "observed_tvd = sum(abs(observed_proportions - null_proportions))/2\n",
    "observed_tvd"
   ]
  },
  {
   "cell_type": "code",
   "execution_count": 26,
   "metadata": {
    "tags": []
   },
   "outputs": [
    {
     "data": {
      "text/plain": [
       "0.0063"
      ]
     },
     "execution_count": 26,
     "metadata": {},
     "output_type": "execute_result"
    }
   ],
   "source": [
    "empirical_p = np.count_nonzero(tvds >= observed_tvd)/10000\n",
    "empirical_p"
   ]
  },
  {
   "cell_type": "markdown",
   "metadata": {},
   "source": [
    "Conclusion of test: The data support the hypothesis that the null model is wrong.\n",
    "\n",
    "Notice that when we had a more crude model (\"late 70% of the time\") compared to this one (\"a bit late 50% of the time, very late 20% of the time, on time 30%), the percent late was 70% in both cases. The observed data were also consistent with each other: 150 late out of 200, compared to 90 \"a bit late\", 60 \"very late\", and 50 \"on time\". The latter is still 150 late.\n",
    "\n",
    "The tests said the data are consistent with 70% late, but not with 50% a bit late, 20% very late, and 30% on time. That's not surprising. Often, the more detailed specifications you have in your model, the less likely you are to see all of that in the data even if the model is good."
   ]
  },
  {
   "cell_type": "code",
   "execution_count": null,
   "metadata": {},
   "outputs": [],
   "source": []
  }
 ],
 "metadata": {
  "kernelspec": {
   "display_name": "Python 3 (ipykernel)",
   "language": "python",
   "name": "python3"
  },
  "language_info": {
   "codemirror_mode": {
    "name": "ipython",
    "version": 3
   },
   "file_extension": ".py",
   "mimetype": "text/x-python",
   "name": "python",
   "nbconvert_exporter": "python",
   "pygments_lexer": "ipython3",
   "version": "3.10.12"
  },
  "toc": {
   "base_numbering": 1,
   "nav_menu": {},
   "number_sections": true,
   "sideBar": true,
   "skip_h1_title": false,
   "title_cell": "Table of Contents",
   "title_sidebar": "Contents",
   "toc_cell": false,
   "toc_position": {},
   "toc_section_display": true,
   "toc_window_display": false
  }
 },
 "nbformat": 4,
 "nbformat_minor": 4
}
